{
 "cells": [
  {
   "cell_type": "code",
   "execution_count": 153,
   "metadata": {},
   "outputs": [],
   "source": [
    "from board import Board\n",
    "import string"
   ]
  },
  {
   "cell_type": "code",
   "execution_count": 57,
   "metadata": {},
   "outputs": [
    {
     "name": "stdout",
     "output_type": "stream",
     "text": [
      "*\n"
     ]
    }
   ],
   "source": [
    "board = [\"*\"*8]*8\n",
    "print(board[1][1])"
   ]
  },
  {
   "cell_type": "code",
   "execution_count": 178,
   "metadata": {},
   "outputs": [],
   "source": [
    "def print_board(board):\n",
    "        print(*board, sep=\"\\n\")\n",
    "\n",
    "def new_game():\n",
    "    board = []\n",
    "    columns = list(string.ascii_lowercase[:8])\n",
    "    rows = range(1,8)\n",
    "    #print(rows)\n",
    "    for column in columns:\n",
    "        for xindex in range(8):\n",
    "            if xindex == 7:\n",
    "                board.append(\"pB\")\n",
    "            if xindex == 1:\n",
    "                board.append(\"pW\")\n",
    "    print(board)\n",
    "    #peão_branco = pW  pB\n",
    "    #for index, char in enumerate(board[1]):\n",
    "    #    print(index)\n",
    "    board[1][2] = \"pB\"\n",
    "    return board"
   ]
  },
  {
   "cell_type": "code",
   "execution_count": 179,
   "metadata": {},
   "outputs": [
    {
     "name": "stdout",
     "output_type": "stream",
     "text": [
      "['pW', 'pB', 'pW', 'pB', 'pW', 'pB', 'pW', 'pB', 'pW', 'pB', 'pW', 'pB', 'pW', 'pB', 'pW', 'pB']\n"
     ]
    },
    {
     "ename": "TypeError",
     "evalue": "'str' object does not support item assignment",
     "output_type": "error",
     "traceback": [
      "\u001b[0;31m---------------------------------------------------------------------------\u001b[0m",
      "\u001b[0;31mTypeError\u001b[0m                                 Traceback (most recent call last)",
      "Cell \u001b[0;32mIn[179], line 1\u001b[0m\n\u001b[0;32m----> 1\u001b[0m board \u001b[38;5;241m=\u001b[39m \u001b[43mnew_game\u001b[49m\u001b[43m(\u001b[49m\u001b[43m)\u001b[49m\n\u001b[1;32m      2\u001b[0m print_board(board)\n",
      "Cell \u001b[0;32mIn[178], line 19\u001b[0m, in \u001b[0;36mnew_game\u001b[0;34m()\u001b[0m\n\u001b[1;32m     15\u001b[0m \u001b[38;5;28mprint\u001b[39m(board)\n\u001b[1;32m     16\u001b[0m \u001b[38;5;66;03m#peão_branco = pW  pB\u001b[39;00m\n\u001b[1;32m     17\u001b[0m \u001b[38;5;66;03m#for index, char in enumerate(board[1]):\u001b[39;00m\n\u001b[1;32m     18\u001b[0m \u001b[38;5;66;03m#    print(index)\u001b[39;00m\n\u001b[0;32m---> 19\u001b[0m \u001b[43mboard\u001b[49m\u001b[43m[\u001b[49m\u001b[38;5;241;43m1\u001b[39;49m\u001b[43m]\u001b[49m\u001b[43m[\u001b[49m\u001b[38;5;241;43m2\u001b[39;49m\u001b[43m]\u001b[49m \u001b[38;5;241m=\u001b[39m \u001b[38;5;124m\"\u001b[39m\u001b[38;5;124mpB\u001b[39m\u001b[38;5;124m\"\u001b[39m\n\u001b[1;32m     20\u001b[0m \u001b[38;5;28;01mreturn\u001b[39;00m board\n",
      "\u001b[0;31mTypeError\u001b[0m: 'str' object does not support item assignment"
     ]
    }
   ],
   "source": [
    "board = new_game()\n",
    "print_board(board)"
   ]
  },
  {
   "cell_type": "code",
   "execution_count": null,
   "metadata": {},
   "outputs": [],
   "source": [
    "def move_a_piece(board, old_loc, new_loc):\n",
    "    vertical = {\n",
    "        \"a\" : 0\n",
    "        \"b\" : 1\n",
    "        \"c\" : 2\n",
    "        \"d\" : 3\n",
    "        \"e\" : 4\n",
    "        \"f\" : 5\n",
    "        \"g\" : 6\n",
    "        \"h\" : 7\n",
    "    }\n",
    "    horizontal = x - 1\n",
    "\n",
    "    y = vertical[new_position[0]]\n",
    "    x = horizontal[new_position[1]]\n",
    "\n",
    "    new_position = old_position\n",
    "    old_position = \"*\"\n",
    "    return board"
   ]
  },
  {
   "cell_type": "code",
   "execution_count": 33,
   "metadata": {},
   "outputs": [
    {
     "name": "stdout",
     "output_type": "stream",
     "text": [
      "b\n"
     ]
    }
   ],
   "source": [
    "move_a_piece(board, \"b2\", \"b4\")"
   ]
  },
  {
   "cell_type": "code",
   "execution_count": 287,
   "metadata": {},
   "outputs": [],
   "source": [
    "\n",
    "def cavalo(tab, old_position ,new_position):\n",
    "    xdiference = new_position[0] - old_position[0]\n",
    "    ydiference = new_position[1] - old_position[1]\n",
    "    soma = abs(xdiference) + abs(ydiference)\n",
    "\n",
    "    if (soma == 3 and xdiference != 0 and ydiference != 0):\n",
    "        tab[new_position[0]][new_position[1]] = tab[old_position[0]][old_position[1]]\n",
    "        tab[old_position[0]][old_position[1]] = 0\n",
    "        print(*tab, sep=\"\\n\")\n",
    "    else:\n",
    "        print(\"movimento invalido\")"
   ]
  },
  {
   "cell_type": "code",
   "execution_count": 288,
   "metadata": {},
   "outputs": [
    {
     "name": "stdout",
     "output_type": "stream",
     "text": [
      "[0, 0, 0, 0, 0]\n",
      "[0, 0, 1, 0, 0]\n",
      "[0, 0, 0, 0, 0]\n",
      "[0, 0, 0, 0, 0]\n",
      "[0, 0, 0, 0, 0]\n"
     ]
    }
   ],
   "source": [
    "tab = [[0,0,0,0,0], [0,0,1,0,0], [0,0,0,0,0], [0,0,0,0,0], [0,0,0,0,0]]\n",
    "print(*tab, sep=\"\\n\")"
   ]
  },
  {
   "cell_type": "code",
   "execution_count": 290,
   "metadata": {},
   "outputs": [
    {
     "name": "stdout",
     "output_type": "stream",
     "text": [
      "[0, 0, 0, 0, 0]\n",
      "[0, 0, 0, 0, 0]\n",
      "[0, 0, 0, 0, 1]\n",
      "[0, 0, 0, 0, 0]\n",
      "[0, 0, 0, 0, 0]\n"
     ]
    }
   ],
   "source": [
    "cavalo(tab, [1, 2], [2, 4])"
   ]
  },
  {
   "cell_type": "code",
   "execution_count": 260,
   "metadata": {},
   "outputs": [
    {
     "name": "stdout",
     "output_type": "stream",
     "text": [
      "[0, 0, 0]\n",
      "[0, 0, 0]\n",
      "[0, 0, 0]\n"
     ]
    }
   ],
   "source": [
    "print(*tab, sep=\"\\n\")"
   ]
  },
  {
   "cell_type": "code",
   "execution_count": null,
   "metadata": {},
   "outputs": [],
   "source": []
  }
 ],
 "metadata": {
  "kernelspec": {
   "display_name": "venv-anubis",
   "language": "python",
   "name": "python3"
  },
  "language_info": {
   "codemirror_mode": {
    "name": "ipython",
    "version": 3
   },
   "file_extension": ".py",
   "mimetype": "text/x-python",
   "name": "python",
   "nbconvert_exporter": "python",
   "pygments_lexer": "ipython3",
   "version": "3.12.3"
  }
 },
 "nbformat": 4,
 "nbformat_minor": 2
}
