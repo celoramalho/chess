{
 "cells": [
  {
   "cell_type": "code",
   "execution_count": 153,
   "metadata": {},
   "outputs": [],
   "source": [
    "from board import Board\n",
    "import string"
   ]
  },
  {
   "cell_type": "code",
   "execution_count": 57,
   "metadata": {},
   "outputs": [
    {
     "name": "stdout",
     "output_type": "stream",
     "text": [
      "*\n"
     ]
    }
   ],
   "source": [
    "board = [\"*\"*8]*8\n",
    "print(board[1][1])"
   ]
  },
  {
   "cell_type": "code",
   "execution_count": 378,
   "metadata": {},
   "outputs": [],
   "source": [
    "def print_board(board, format):\n",
    "    \n",
    "    if format == \"ascii\":\n",
    "        #♔♚♕♛♗♝♘♞♙♟♖♜\n",
    "        pieces = board[\"pieces\"]\n",
    "        colors = board[\"colors\"]\n",
    "        for y, row in enumerate(pieces):\n",
    "            for x, square in enumerate(row):\n",
    "                if square == \"*\":\n",
    "                    if colors[y][x] == \"W\":\n",
    "                        print(\"|□|\", end = \"\")\n",
    "                    elif colors[y][x] == \"B\":\n",
    "                        print(\"|■|\", end = \"\")\n",
    "                else:\n",
    "                    if square == \"Pb\":\n",
    "                        print(f\"|♟|\", end = \"\")\n",
    "                    elif square == \"Pw\":\n",
    "                        print(f\"|♙|\", end = \"\")\n",
    "                    elif square == \"Rb\":\n",
    "                        print(f\"|♜|\", end = \"\")\n",
    "                    elif square == \"Rw\":\n",
    "                        print(f\"|♖|\", end = \"\")\n",
    "                    elif square == \"Nb\":\n",
    "                        print(f\"|♞|\", end = \"\")\n",
    "                    elif square == \"Nw\":\n",
    "                        print(f\"|♘|\", end = \"\")\n",
    "                    elif square == \"Bb\":\n",
    "                        print(f\"|♝|\", end = \"\") #♔♚♕♛♗♝♘♞♙♟♖♜\n",
    "                    elif square == \"Bw\": \n",
    "                        print(f\"|♗|\", end = \"\")\n",
    "                    elif square == \"Kb\": \n",
    "                        print(f\"|♚|\", end = \"\")\n",
    "                    elif square == \"Kw\":\n",
    "                        print(f\"|♔|\", end = \"\")\n",
    "                    elif square == \"Qb\": \n",
    "                        print(f\"|♛|\", end = \"\")\n",
    "                    elif square == \"Qw\":\n",
    "                        print(f\"|♕|\", end = \"\")\n",
    "            print(\"\\n\")\n",
    "\n",
    "def create_board():\n",
    "    board_pieces = []\n",
    "    board_colors = []\n",
    "    #board = [\"*\"*8]*8\n",
    "    #columns = list(string.ascii_lowercase[:8])\n",
    "    #rows = range(1,8)\n",
    "    for xindex in range(8):\n",
    "        line_pieces = []\n",
    "        line_colors = []\n",
    "        for yindex in range(8):\n",
    "\n",
    "            if yindex%2 == xindex%2:\n",
    "                line_colors.append(\"W\")\n",
    "            else:\n",
    "                line_colors.append(\"B\")\n",
    "\n",
    "            if xindex < 2: #Black\n",
    "                if xindex == 0:\n",
    "                    if yindex == 0 or yindex == 7:\n",
    "                        line_pieces.append(\"Rb\")\n",
    "                    elif yindex == 1 or yindex == 6:\n",
    "                        line_pieces.append(\"Nb\")\n",
    "                    elif yindex == 2 or yindex == 5:\n",
    "                        line_pieces.append(\"Bb\")\n",
    "                    elif yindex == 3:\n",
    "                        line_pieces.append(\"Qb\")\n",
    "                    elif yindex == 4:\n",
    "                        line_pieces.append(\"Kb\")\n",
    "\n",
    "                elif xindex == 1:\n",
    "                    line_pieces.append(\"Pb\")\n",
    "\n",
    "            if xindex > 5: #White\n",
    "                if xindex == 7:\n",
    "                    if yindex == 0 or yindex == 7:\n",
    "                        line_pieces.append(\"Rw\")\n",
    "                    elif yindex == 1 or yindex == 6:\n",
    "                        line_pieces.append(\"Nw\")\n",
    "                    elif yindex == 2 or yindex == 5:\n",
    "                        line_pieces.append(\"Bw\")\n",
    "                    elif yindex == 3:\n",
    "                        line_pieces.append(\"Qw\")\n",
    "                    elif yindex == 4:\n",
    "                        line_pieces.append(\"Kw\")\n",
    "\n",
    "                elif xindex == 6:\n",
    "                    line_pieces.append(\"Pw\")\n",
    "        \n",
    "            if xindex > 1 and xindex < 6:\n",
    "                line_pieces.append(\"*\")\n",
    "        board_pieces.append(line_pieces)\n",
    "        board_colors.append(line_colors)\n",
    "        board = {\n",
    "            \"pieces\" : board_pieces,\n",
    "            \"colors\" : board_colors\n",
    "        }\n",
    "    return board\n",
    "\n",
    "def new_game():\n",
    "    board = create_board()\n",
    "    print_board(board, \"ascii\")\n",
    "    "
   ]
  },
  {
   "cell_type": "code",
   "execution_count": 379,
   "metadata": {},
   "outputs": [
    {
     "name": "stdout",
     "output_type": "stream",
     "text": [
      "|♜||♞||♝||♛||♚||♝||♞||♜|\n",
      "\n",
      "|♟||♟||♟||♟||♟||♟||♟||♟|\n",
      "\n",
      "|□||■||□||■||□||■||□||■|\n",
      "\n",
      "|■||□||■||□||■||□||■||□|\n",
      "\n",
      "|□||■||□||■||□||■||□||■|\n",
      "\n",
      "|■||□||■||□||■||□||■||□|\n",
      "\n",
      "|♙||♙||♙||♙||♙||♙||♙||♙|\n",
      "\n",
      "|♖||♘||♗||♕||♔||♗||♘||♖|\n",
      "\n"
     ]
    }
   ],
   "source": [
    "new_game()"
   ]
  },
  {
   "cell_type": "code",
   "execution_count": null,
   "metadata": {},
   "outputs": [],
   "source": [
    "def move_a_piece(board, old_loc, new_loc):\n",
    "    vertical = {\n",
    "        \"a\" : 0\n",
    "        \"b\" : 1\n",
    "        \"c\" : 2\n",
    "        \"d\" : 3\n",
    "        \"e\" : 4\n",
    "        \"f\" : 5\n",
    "        \"g\" : 6\n",
    "        \"h\" : 7\n",
    "    }\n",
    "    horizontal = x - 1\n",
    "\n",
    "    y = vertical[new_position[0]]\n",
    "    x = horizontal[new_position[1]]\n",
    "\n",
    "    new_position = old_position\n",
    "    old_position = \"*\"\n",
    "    return board"
   ]
  },
  {
   "cell_type": "code",
   "execution_count": 33,
   "metadata": {},
   "outputs": [
    {
     "name": "stdout",
     "output_type": "stream",
     "text": [
      "b\n"
     ]
    }
   ],
   "source": [
    "move_a_piece(board, \"b2\", \"b4\")"
   ]
  },
  {
   "cell_type": "code",
   "execution_count": 287,
   "metadata": {},
   "outputs": [],
   "source": [
    "\n",
    "def cavalo(tab, old_position ,new_position):\n",
    "    xdiference = new_position[0] - old_position[0]\n",
    "    ydiference = new_position[1] - old_position[1]\n",
    "    soma = abs(xdiference) + abs(ydiference)\n",
    "\n",
    "    if (soma == 3 and xdiference != 0 and ydiference != 0):\n",
    "        tab[new_position[0]][new_position[1]] = tab[old_position[0]][old_position[1]]\n",
    "        tab[old_position[0]][old_position[1]] = 0\n",
    "        print(*tab, sep=\"\\n\")\n",
    "    else:\n",
    "        print(\"movimento invalido\")"
   ]
  },
  {
   "cell_type": "code",
   "execution_count": 288,
   "metadata": {},
   "outputs": [
    {
     "name": "stdout",
     "output_type": "stream",
     "text": [
      "[0, 0, 0, 0, 0]\n",
      "[0, 0, 1, 0, 0]\n",
      "[0, 0, 0, 0, 0]\n",
      "[0, 0, 0, 0, 0]\n",
      "[0, 0, 0, 0, 0]\n"
     ]
    }
   ],
   "source": [
    "tab = [[0,0,0,0,0], [0,0,1,0,0], [0,0,0,0,0], [0,0,0,0,0], [0,0,0,0,0]]\n",
    "print(*tab, sep=\"\\n\")"
   ]
  },
  {
   "cell_type": "code",
   "execution_count": 290,
   "metadata": {},
   "outputs": [
    {
     "name": "stdout",
     "output_type": "stream",
     "text": [
      "[0, 0, 0, 0, 0]\n",
      "[0, 0, 0, 0, 0]\n",
      "[0, 0, 0, 0, 1]\n",
      "[0, 0, 0, 0, 0]\n",
      "[0, 0, 0, 0, 0]\n"
     ]
    }
   ],
   "source": [
    "cavalo(tab, [1, 2], [2, 4])"
   ]
  },
  {
   "cell_type": "code",
   "execution_count": 260,
   "metadata": {},
   "outputs": [
    {
     "name": "stdout",
     "output_type": "stream",
     "text": [
      "[0, 0, 0]\n",
      "[0, 0, 0]\n",
      "[0, 0, 0]\n"
     ]
    }
   ],
   "source": [
    "print(*tab, sep=\"\\n\")"
   ]
  },
  {
   "cell_type": "code",
   "execution_count": null,
   "metadata": {},
   "outputs": [],
   "source": []
  }
 ],
 "metadata": {
  "kernelspec": {
   "display_name": "venv-anubis",
   "language": "python",
   "name": "python3"
  },
  "language_info": {
   "codemirror_mode": {
    "name": "ipython",
    "version": 3
   },
   "file_extension": ".py",
   "mimetype": "text/x-python",
   "name": "python",
   "nbconvert_exporter": "python",
   "pygments_lexer": "ipython3",
   "version": "3.12.3"
  }
 },
 "nbformat": 4,
 "nbformat_minor": 2
}
