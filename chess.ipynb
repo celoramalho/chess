{
 "cells": [
  {
   "cell_type": "code",
   "execution_count": 393,
   "metadata": {},
   "outputs": [],
   "source": [
    "from board import Board\n",
    "import string\n",
    "\n",
    "#https://en.wikipedia.org/wiki/Chess_symbols_in_Unicode"
   ]
  },
  {
   "cell_type": "code",
   "execution_count": 394,
   "metadata": {},
   "outputs": [
    {
     "name": "stdout",
     "output_type": "stream",
     "text": [
      "*\n"
     ]
    }
   ],
   "source": [
    "board = [\"*\"*8]*8\n",
    "print(board[1][1])"
   ]
  },
  {
   "cell_type": "code",
   "execution_count": 408,
   "metadata": {},
   "outputs": [],
   "source": [
    "def print_board(board, format, color_theme):#♔♚♕♛♗♝♘♞♙♟♖♜\n",
    "    pieces = board[\"pieces\"]\n",
    "    colors = board[\"colors\"]\n",
    "    pieces_ascii = {\n",
    "        \"Pb\" : \"♟\",\n",
    "        \"Rb\" : \"♜\",\n",
    "        \"Nb\" : \"♞\",\n",
    "        \"Bb\" : \"♝\",\n",
    "        \"Qb\" : \"♛\",\n",
    "        \"Kb\" : \"♚\",\n",
    "        \"B\" : \"■\",\n",
    "        \"Pw\" : \"♙\",\n",
    "        \"Rw\" : \"♖\",\n",
    "        \"Nw\" : \"♘\",\n",
    "        \"Bw\" : \"♗\",\n",
    "        \"Qw\" : \"♕\",\n",
    "        \"Kw\" : \"♔\",\n",
    "        \"W\" : \"□\"        \n",
    "    }\n",
    "    if format == \"ascii\":\n",
    "        #♔♚♕♛♗♝♘♞♙♟♖♜□■\n",
    "        for y, row in enumerate(pieces):\n",
    "            for x, char in enumerate(row):\n",
    "                if char == \"*\":\n",
    "                    print(f\"|{pieces_ascii[colors[y][x]]}|\", end=\"\")\n",
    "                else:\n",
    "                    print(f\"|{pieces_ascii[char]}|\", end=\"\")\n",
    "            print(\"\\n\")\n",
    "    if format == \"roots\":\n",
    "        for y, row in enumerate(pieces):\n",
    "            for x, char in enumerate(row):\n",
    "                if char == \"*\":\n",
    "                    print(f\"|{colors[y][x]} |\", end=\"\")\n",
    "                else:\n",
    "                    print(f\"|{char}|\", end=\"\")\n",
    "            print(\"\\n\")\n",
    "\n",
    "def create_board():\n",
    "    board_pieces = []\n",
    "    board_colors = []\n",
    "    #board = [\"*\"*8]*8\n",
    "    #columns = list(string.ascii_lowercase[:8])\n",
    "    #rows = range(1,8)\n",
    "    for xindex in range(8):\n",
    "        line_pieces = []\n",
    "        line_colors = []\n",
    "        for yindex in range(8):\n",
    "\n",
    "            if yindex%2 == xindex%2:\n",
    "                line_colors.append(\"W\")\n",
    "            else:\n",
    "                line_colors.append(\"B\")\n",
    "\n",
    "            if xindex < 2: #Black\n",
    "                if xindex == 0:\n",
    "                    if yindex == 0 or yindex == 7:\n",
    "                        line_pieces.append(\"Rb\")\n",
    "                    elif yindex == 1 or yindex == 6:\n",
    "                        line_pieces.append(\"Nb\")\n",
    "                    elif yindex == 2 or yindex == 5:\n",
    "                        line_pieces.append(\"Bb\")\n",
    "                    elif yindex == 3:\n",
    "                        line_pieces.append(\"Qb\")\n",
    "                    elif yindex == 4:\n",
    "                        line_pieces.append(\"Kb\")\n",
    "\n",
    "                elif xindex == 1:\n",
    "                    line_pieces.append(\"Pb\")\n",
    "\n",
    "            if xindex > 5: #White\n",
    "                if xindex == 7:\n",
    "                    if yindex == 0 or yindex == 7:\n",
    "                        line_pieces.append(\"Rw\")\n",
    "                    elif yindex == 1 or yindex == 6:\n",
    "                        line_pieces.append(\"Nw\")\n",
    "                    elif yindex == 2 or yindex == 5:\n",
    "                        line_pieces.append(\"Bw\")\n",
    "                    elif yindex == 3:\n",
    "                        line_pieces.append(\"Qw\")\n",
    "                    elif yindex == 4:\n",
    "                        line_pieces.append(\"Kw\")\n",
    "\n",
    "                elif xindex == 6:\n",
    "                    line_pieces.append(\"Pw\")\n",
    "        \n",
    "            if xindex > 1 and xindex < 6:\n",
    "                line_pieces.append(\"*\")\n",
    "        board_pieces.append(line_pieces)\n",
    "        board_colors.append(line_colors)\n",
    "        board = {\n",
    "            \"pieces\" : board_pieces,\n",
    "            \"colors\" : board_colors\n",
    "        }\n",
    "    return board\n",
    "\n",
    "def new_game(print_format = \"ascii\"):\n",
    "    board = create_board()\n",
    "    #color_theme = input(\"What color is your terminal?\\n1.Dark\\n2.Light\")\n",
    "    print_board(board, print_format, color_theme = \"Dark\")\n",
    "    "
   ]
  },
  {
   "cell_type": "code",
   "execution_count": 410,
   "metadata": {},
   "outputs": [
    {
     "name": "stdout",
     "output_type": "stream",
     "text": [
      "|♜||♞||♝||♛||♚||♝||♞||♜|\n",
      "\n",
      "|♟||♟||♟||♟||♟||♟||♟||♟|\n",
      "\n",
      "|□||■||□||■||□||■||□||■|\n",
      "\n",
      "|■||□||■||□||■||□||■||□|\n",
      "\n",
      "|□||■||□||■||□||■||□||■|\n",
      "\n",
      "|■||□||■||□||■||□||■||□|\n",
      "\n",
      "|♙||♙||♙||♙||♙||♙||♙||♙|\n",
      "\n",
      "|♖||♘||♗||♕||♔||♗||♘||♖|\n",
      "\n"
     ]
    }
   ],
   "source": [
    "new_game(\"ascii\")"
   ]
  },
  {
   "cell_type": "code",
   "execution_count": 397,
   "metadata": {},
   "outputs": [
    {
     "ename": "SyntaxError",
     "evalue": "invalid syntax. Perhaps you forgot a comma? (1719906264.py, line 3)",
     "output_type": "error",
     "traceback": [
      "\u001b[0;36m  Cell \u001b[0;32mIn[397], line 3\u001b[0;36m\u001b[0m\n\u001b[0;31m    \"a\" : 0\u001b[0m\n\u001b[0m          ^\u001b[0m\n\u001b[0;31mSyntaxError\u001b[0m\u001b[0;31m:\u001b[0m invalid syntax. Perhaps you forgot a comma?\n"
     ]
    }
   ],
   "source": [
    "def move_a_piece(board, old_loc, new_loc):\n",
    "    vertical = {\n",
    "        \"a\" : 0\n",
    "        \"b\" : 1\n",
    "        \"c\" : 2\n",
    "        \"d\" : 3\n",
    "        \"e\" : 4\n",
    "        \"f\" : 5\n",
    "        \"g\" : 6\n",
    "        \"h\" : 7\n",
    "    }\n",
    "    horizontal = x - 1\n",
    "\n",
    "    y = vertical[new_position[0]]\n",
    "    x = horizontal[new_position[1]]\n",
    "\n",
    "    new_position = old_position\n",
    "    old_position = \"*\"\n",
    "    return board"
   ]
  },
  {
   "cell_type": "code",
   "execution_count": 33,
   "metadata": {},
   "outputs": [
    {
     "name": "stdout",
     "output_type": "stream",
     "text": [
      "b\n"
     ]
    }
   ],
   "source": [
    "move_a_piece(board, \"b2\", \"b4\")"
   ]
  },
  {
   "cell_type": "code",
   "execution_count": 287,
   "metadata": {},
   "outputs": [],
   "source": [
    "\n",
    "def cavalo(tab, old_position ,new_position):\n",
    "    xdiference = new_position[0] - old_position[0]\n",
    "    ydiference = new_position[1] - old_position[1]\n",
    "    soma = abs(xdiference) + abs(ydiference)\n",
    "\n",
    "    if (soma == 3 and xdiference != 0 and ydiference != 0):\n",
    "        tab[new_position[0]][new_position[1]] = tab[old_position[0]][old_position[1]]\n",
    "        tab[old_position[0]][old_position[1]] = 0\n",
    "        print(*tab, sep=\"\\n\")\n",
    "    else:\n",
    "        print(\"movimento invalido\")"
   ]
  },
  {
   "cell_type": "code",
   "execution_count": 288,
   "metadata": {},
   "outputs": [
    {
     "name": "stdout",
     "output_type": "stream",
     "text": [
      "[0, 0, 0, 0, 0]\n",
      "[0, 0, 1, 0, 0]\n",
      "[0, 0, 0, 0, 0]\n",
      "[0, 0, 0, 0, 0]\n",
      "[0, 0, 0, 0, 0]\n"
     ]
    }
   ],
   "source": [
    "tab = [[0,0,0,0,0], [0,0,1,0,0], [0,0,0,0,0], [0,0,0,0,0], [0,0,0,0,0]]\n",
    "print(*tab, sep=\"\\n\")"
   ]
  },
  {
   "cell_type": "code",
   "execution_count": 290,
   "metadata": {},
   "outputs": [
    {
     "name": "stdout",
     "output_type": "stream",
     "text": [
      "[0, 0, 0, 0, 0]\n",
      "[0, 0, 0, 0, 0]\n",
      "[0, 0, 0, 0, 1]\n",
      "[0, 0, 0, 0, 0]\n",
      "[0, 0, 0, 0, 0]\n"
     ]
    }
   ],
   "source": [
    "cavalo(tab, [1, 2], [2, 4])"
   ]
  },
  {
   "cell_type": "code",
   "execution_count": 260,
   "metadata": {},
   "outputs": [
    {
     "name": "stdout",
     "output_type": "stream",
     "text": [
      "[0, 0, 0]\n",
      "[0, 0, 0]\n",
      "[0, 0, 0]\n"
     ]
    }
   ],
   "source": [
    "print(*tab, sep=\"\\n\")"
   ]
  },
  {
   "cell_type": "code",
   "execution_count": 9,
   "metadata": {},
   "outputs": [],
   "source": [
    "numero = \"ikshgujhbnwsgfn\""
   ]
  },
  {
   "cell_type": "code",
   "execution_count": 12,
   "metadata": {},
   "outputs": [
    {
     "name": "stdout",
     "output_type": "stream",
     "text": [
      "Krlh\n"
     ]
    }
   ],
   "source": [
    "\n",
    "if numero == 1:\n",
    "    print(\"Número 1 porra\")\n",
    "elif numero ==  2:\n",
    "    print(\"Número 2 porra\")\n",
    "else:\n",
    "    print(\"Krlh\")"
   ]
  },
  {
   "cell_type": "code",
   "execution_count": null,
   "metadata": {},
   "outputs": [],
   "source": []
  }
 ],
 "metadata": {
  "kernelspec": {
   "display_name": "venv-anubis",
   "language": "python",
   "name": "python3"
  },
  "language_info": {
   "codemirror_mode": {
    "name": "ipython",
    "version": 3
   },
   "file_extension": ".py",
   "mimetype": "text/x-python",
   "name": "python",
   "nbconvert_exporter": "python",
   "pygments_lexer": "ipython3",
   "version": "3.12.3"
  }
 },
 "nbformat": 4,
 "nbformat_minor": 2
}
